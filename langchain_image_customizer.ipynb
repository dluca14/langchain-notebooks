{
 "cells": [
  {
   "cell_type": "markdown",
   "source": [
    "\n",
    "## Install Dependencies\n"
   ],
   "metadata": {
    "collapsed": false
   },
   "id": "8bca82d8f0e9691d"
  },
  {
   "cell_type": "code",
   "source": [
    "%%capture --no-stderr\n",
    "%pip install -U langchain_community tiktoken langchain-openai langchainhub chromadb langchain langgraph faiss-cpu"
   ],
   "metadata": {
    "collapsed": false,
    "ExecuteTime": {
     "end_time": "2024-04-09T09:34:02.290490Z",
     "start_time": "2024-04-09T09:33:52.781220Z"
    }
   },
   "id": "820eb48e92c7dd7a",
   "outputs": [],
   "execution_count": 27
  },
  {
   "cell_type": "markdown",
   "source": [
    "## Set env vars"
   ],
   "metadata": {
    "collapsed": false
   },
   "id": "6866f4c9f6905239"
  },
  {
   "cell_type": "code",
   "source": [
    "from dotenv import load_dotenv\n",
    "import os\n",
    "\n",
    "load_dotenv()\n",
    "\n",
    "LANGCHAIN_API_KEY=os.getenv(\"LANGCHAIN_API_KEY\")\n",
    "OPENAI_API_KEY=os.getenv(\"OPENAI_API_KEY\")\n"
   ],
   "metadata": {
    "collapsed": false,
    "ExecuteTime": {
     "end_time": "2024-04-09T09:34:02.317064Z",
     "start_time": "2024-04-09T09:34:02.298490Z"
    }
   },
   "id": "6e81dbdd845f604f",
   "outputs": [],
   "execution_count": 28
  },
  {
   "cell_type": "markdown",
   "source": [
    "## Load the LLM"
   ],
   "metadata": {
    "collapsed": false
   },
   "id": "cc71e7d31c5043e"
  },
  {
   "cell_type": "code",
   "source": [
    "from langchain_openai import ChatOpenAI\n",
    "\n",
    "llm = ChatOpenAI(model=\"gpt-3.5-turbo\", temperature=0)"
   ],
   "metadata": {
    "collapsed": false,
    "ExecuteTime": {
     "end_time": "2024-04-09T09:34:02.540645Z",
     "start_time": "2024-04-09T09:34:02.322634Z"
    }
   },
   "id": "4074515201d4079f",
   "outputs": [],
   "execution_count": 29
  },
  {
   "cell_type": "markdown",
   "source": [
    "## Define Tools"
   ],
   "metadata": {
    "collapsed": false
   },
   "id": "af5b80dd218e5a00"
  },
  {
   "cell_type": "code",
   "source": [
    "from langchain.agents import tool\n",
    "\n",
    "\n",
    "@tool\n",
    "def get_word_length(word: str) -> int:\n",
    "    \"\"\"Returns the length of a word.\"\"\"\n",
    "    return len(word)\n",
    "\n",
    "\n",
    "@tool\n",
    "def increase_brightness() -> int:\n",
    "    \"\"\"Increases the value of variable \"brightness\" with an increment of 7 based on user input and returns the value of \"brightness\".\"\"\"\n",
    "    # \"\"\"Increase of decrease brightness of the photo based on user input and returns its value\"\"\"\n",
    "    brightness = 0\n",
    "    brightness += 7\n",
    "    return brightness\n",
    "\n",
    "@tool\n",
    "def decrease_brightness() -> int:\n",
    "    \"\"\"Decreases the value of variable \"brightness\" with an increment of 7 based on user input and returns the value of \"brightness\".\"\"\"\n",
    "    # \"\"\"Increase of decrease brightness of the photo based on user input and returns its value\"\"\"\n",
    "    brightness = 0\n",
    "    brightness -= 7\n",
    "    return brightness\n",
    "\n",
    "@tool\n",
    "def configure_zoom() -> int:\n",
    "    \"\"\"Increases of decreases value of variable \"zoom\" with an increment of 10 based on user input and returns the value of \"zoom\".\"\"\"\n",
    "    # \"\"\"Zoom in or out the photo based on user input and returns zoom value. If user says that want its photo enlarged that means zoom in and zoom out in contrary. Return zoom value.\"\"\"\n",
    "    zoom = 5\n",
    "    return zoom\n",
    "\n",
    "# print(get_word_length.invoke(\"abc\"))\n",
    "tools = [increase_brightness, decrease_brightness]"
   ],
   "metadata": {
    "collapsed": false,
    "ExecuteTime": {
     "end_time": "2024-04-09T09:34:02.575186Z",
     "start_time": "2024-04-09T09:34:02.547031Z"
    }
   },
   "id": "ca2d5f8ecb3ef080",
   "outputs": [],
   "execution_count": 30
  },
  {
   "cell_type": "markdown",
   "source": [
    "## Create Prompt"
   ],
   "metadata": {
    "collapsed": false
   },
   "id": "ab063c4008ec77fb"
  },
  {
   "cell_type": "code",
   "source": [
    "from langchain_core.prompts import ChatPromptTemplate, MessagesPlaceholder\n",
    "\n",
    "prompt = ChatPromptTemplate.from_messages(\n",
    "    [\n",
    "        (\n",
    "            \"system\",\n",
    "            \"You are very powerful assistant that helps people adjusting their photos by adjusting the value of these 3 parameters: brightness, scale, zoom\",\n",
    "        ),\n",
    "        (\"user\", \"{input}\"),\n",
    "        MessagesPlaceholder(variable_name=\"agent_scratchpad\"),\n",
    "    ]\n",
    ")"
   ],
   "metadata": {
    "collapsed": false,
    "ExecuteTime": {
     "end_time": "2024-04-09T09:34:02.596983Z",
     "start_time": "2024-04-09T09:34:02.577298Z"
    }
   },
   "id": "a8389e62a3953492",
   "outputs": [],
   "execution_count": 31
  },
  {
   "cell_type": "markdown",
   "source": [
    "## Bind tools to LLM"
   ],
   "metadata": {
    "collapsed": false
   },
   "id": "ce12fafa8866df48"
  },
  {
   "cell_type": "code",
   "source": [
    "llm_with_tools = llm.bind_tools(tools)"
   ],
   "metadata": {
    "collapsed": false,
    "ExecuteTime": {
     "end_time": "2024-04-09T09:34:02.614264Z",
     "start_time": "2024-04-09T09:34:02.599002Z"
    }
   },
   "id": "6a279f1fbb0cca3c",
   "outputs": [],
   "execution_count": 32
  },
  {
   "cell_type": "markdown",
   "source": [
    "## Create the Agent"
   ],
   "metadata": {
    "collapsed": false
   },
   "id": "9e4902a80446249"
  },
  {
   "cell_type": "code",
   "source": [
    "from langchain.agents.format_scratchpad.openai_tools import (format_to_openai_tool_messages)\n",
    "from langchain.agents.output_parsers.openai_tools import OpenAIToolsAgentOutputParser\n",
    "\n",
    "agent = (\n",
    "    {\n",
    "        'input': lambda x: x['input'],\n",
    "        'agent_scratchpad': lambda x: format_to_openai_tool_messages(x['intermediate_steps']),\n",
    "    }\n",
    "    | prompt\n",
    "    | llm_with_tools\n",
    "    | OpenAIToolsAgentOutputParser()\n",
    ")"
   ],
   "metadata": {
    "collapsed": false,
    "ExecuteTime": {
     "end_time": "2024-04-09T09:34:02.635815Z",
     "start_time": "2024-04-09T09:34:02.618780Z"
    }
   },
   "id": "ee8a45e13ba1559",
   "outputs": [],
   "execution_count": 33
  },
  {
   "cell_type": "code",
   "source": [
    "from langchain.agents import AgentExecutor\n",
    "\n",
    "agent_executor = AgentExecutor(agent=agent, tools=tools, verbose=True)\n",
    "\n",
    "# list(agent_executor.stream({\"input\": \"How many letters in the word eudca\"}))\n",
    "list(agent_executor.stream({\"input\": \"I want my picture to be brighter. Please also return the values of the configured vars.\"}))\n"
   ],
   "metadata": {
    "collapsed": false,
    "ExecuteTime": {
     "end_time": "2024-04-09T09:34:04.651500Z",
     "start_time": "2024-04-09T09:34:02.638634Z"
    }
   },
   "id": "6b3b9bf8873fd320",
   "outputs": [
    {
     "name": "stdout",
     "output_type": "stream",
     "text": [
      "\n",
      "\n",
      "\u001B[1m> Entering new AgentExecutor chain...\u001B[0m\n",
      "\u001B[32;1m\u001B[1;3m\n",
      "Invoking: `increase_brightness` with `{}`\n",
      "\n",
      "\n",
      "\u001B[0m\u001B[36;1m\u001B[1;3m7\u001B[0m\u001B[32;1m\u001B[1;3mThe brightness of your picture has been increased. The new value of brightness is 7.\u001B[0m\n",
      "\n",
      "\u001B[1m> Finished chain.\u001B[0m\n"
     ]
    },
    {
     "data": {
      "text/plain": [
       "[{'actions': [OpenAIToolAgentAction(tool='increase_brightness', tool_input={}, log='\\nInvoking: `increase_brightness` with `{}`\\n\\n\\n', message_log=[AIMessageChunk(content='', additional_kwargs={'tool_calls': [{'index': 0, 'id': 'call_xDvnI2GI7ITVgAA16HTJ31s8', 'function': {'arguments': '{}', 'name': 'increase_brightness'}, 'type': 'function'}]}, response_metadata={'finish_reason': 'tool_calls'}, id='run-9c2c23de-d42d-4439-99e7-47be53b52972')], tool_call_id='call_xDvnI2GI7ITVgAA16HTJ31s8')],\n",
       "  'messages': [AIMessageChunk(content='', additional_kwargs={'tool_calls': [{'index': 0, 'id': 'call_xDvnI2GI7ITVgAA16HTJ31s8', 'function': {'arguments': '{}', 'name': 'increase_brightness'}, 'type': 'function'}]}, response_metadata={'finish_reason': 'tool_calls'}, id='run-9c2c23de-d42d-4439-99e7-47be53b52972')]},\n",
       " {'steps': [AgentStep(action=OpenAIToolAgentAction(tool='increase_brightness', tool_input={}, log='\\nInvoking: `increase_brightness` with `{}`\\n\\n\\n', message_log=[AIMessageChunk(content='', additional_kwargs={'tool_calls': [{'index': 0, 'id': 'call_xDvnI2GI7ITVgAA16HTJ31s8', 'function': {'arguments': '{}', 'name': 'increase_brightness'}, 'type': 'function'}]}, response_metadata={'finish_reason': 'tool_calls'}, id='run-9c2c23de-d42d-4439-99e7-47be53b52972')], tool_call_id='call_xDvnI2GI7ITVgAA16HTJ31s8'), observation=7)],\n",
       "  'messages': [FunctionMessage(content='7', name='increase_brightness')]},\n",
       " {'output': 'The brightness of your picture has been increased. The new value of brightness is 7.',\n",
       "  'messages': [AIMessage(content='The brightness of your picture has been increased. The new value of brightness is 7.')]}]"
      ]
     },
     "execution_count": 34,
     "metadata": {},
     "output_type": "execute_result"
    }
   ],
   "execution_count": 34
  },
  {
   "cell_type": "markdown",
   "source": [
    "## Adding memory"
   ],
   "metadata": {
    "collapsed": false
   },
   "id": "db78ccdb14af9dd0"
  },
  {
   "cell_type": "code",
   "source": [
    "from langchain.prompts import MessagesPlaceholder\n",
    "\n",
    "MEMORY_KEY = \"chat_history\"\n",
    "prompt = ChatPromptTemplate.from_messages(\n",
    "    [\n",
    "        (\n",
    "            \"system\",\n",
    "            \"You are very powerful assistant, but bad at calculating variables values.\",\n",
    "        ),\n",
    "        MessagesPlaceholder(variable_name=MEMORY_KEY),\n",
    "        (\"user\", \"{input}\"),\n",
    "        MessagesPlaceholder(variable_name=\"agent_scratchpad\"),\n",
    "    ]\n",
    ")"
   ],
   "metadata": {
    "collapsed": false,
    "ExecuteTime": {
     "end_time": "2024-04-09T09:34:52.170631Z",
     "start_time": "2024-04-09T09:34:52.161906Z"
    }
   },
   "id": "544e62462a8a03c4",
   "outputs": [],
   "execution_count": 37
  },
  {
   "cell_type": "code",
   "source": [
    "from langchain_core.messages import AIMessage, HumanMessage\n",
    "\n",
    "chat_history = []\n",
    "\n",
    "agent = (\n",
    "    {\n",
    "        \"input\": lambda x: x[\"input\"],\n",
    "        \"agent_scratchpad\": lambda x: format_to_openai_tool_messages(\n",
    "            x[\"intermediate_steps\"]\n",
    "        ),\n",
    "        \"chat_history\": lambda x: x[\"chat_history\"],\n",
    "    }\n",
    "    | prompt\n",
    "    | llm_with_tools\n",
    "    | OpenAIToolsAgentOutputParser()\n",
    ")\n",
    "agent_executor = AgentExecutor(agent=agent, tools=tools, verbose=True)\n",
    "\n",
    "input1 = \"what is the value of brightness before and after the modification?\"\n",
    "result = agent_executor.invoke({\"input\": input1, \"chat_history\": chat_history})\n",
    "chat_history.extend(\n",
    "    [\n",
    "        HumanMessage(content=input1),\n",
    "        AIMessage(content=result[\"output\"]),\n",
    "    ]\n",
    ")\n",
    "result = agent_executor.invoke({\"input\": \"are you sure?\", \"chat_history\": chat_history})\n",
    "# print('------', result)"
   ],
   "metadata": {
    "collapsed": false,
    "ExecuteTime": {
     "end_time": "2024-04-09T09:35:37.271598Z",
     "start_time": "2024-04-09T09:35:32.091547Z"
    }
   },
   "id": "22c391f81e2d5170",
   "outputs": [
    {
     "name": "stdout",
     "output_type": "stream",
     "text": [
      "\n",
      "\n",
      "\u001B[1m> Entering new AgentExecutor chain...\u001B[0m\n",
      "\u001B[32;1m\u001B[1;3m\n",
      "Invoking: `increase_brightness` with `{}`\n",
      "\n",
      "\n",
      "\u001B[0m\u001B[36;1m\u001B[1;3m7\u001B[0m\u001B[32;1m\u001B[1;3m\n",
      "Invoking: `decrease_brightness` with `{}`\n",
      "\n",
      "\n",
      "\u001B[0m\u001B[33;1m\u001B[1;3m-7\u001B[0m\u001B[32;1m\u001B[1;3mThe value of brightness before modification is 0, and after the modification, it is 0.\u001B[0m\n",
      "\n",
      "\u001B[1m> Finished chain.\u001B[0m\n",
      "\n",
      "\n",
      "\u001B[1m> Entering new AgentExecutor chain...\u001B[0m\n",
      "\u001B[32;1m\u001B[1;3m\n",
      "Invoking: `increase_brightness` with `{}`\n",
      "\n",
      "\n",
      "\u001B[0m\u001B[36;1m\u001B[1;3m7\u001B[0m\u001B[32;1m\u001B[1;3m\n",
      "Invoking: `decrease_brightness` with `{}`\n",
      "\n",
      "\n",
      "\u001B[0m\u001B[33;1m\u001B[1;3m-7\u001B[0m\u001B[32;1m\u001B[1;3mAfter increasing the brightness by 7 and then decreasing it by 7, the value of brightness is back to 0.\u001B[0m\n",
      "\n",
      "\u001B[1m> Finished chain.\u001B[0m\n"
     ]
    }
   ],
   "execution_count": 38
  },
  {
   "metadata": {
    "ExecuteTime": {
     "end_time": "2024-04-09T09:34:09.524893Z",
     "start_time": "2024-04-09T09:34:09.521747Z"
    }
   },
   "cell_type": "code",
   "source": "",
   "id": "9da64e8a1b25117b",
   "outputs": [],
   "execution_count": 36
  }
 ],
 "metadata": {
  "kernelspec": {
   "display_name": "Python 3",
   "language": "python",
   "name": "python3"
  },
  "language_info": {
   "codemirror_mode": {
    "name": "ipython",
    "version": 2
   },
   "file_extension": ".py",
   "mimetype": "text/x-python",
   "name": "python",
   "nbconvert_exporter": "python",
   "pygments_lexer": "ipython2",
   "version": "2.7.6"
  }
 },
 "nbformat": 4,
 "nbformat_minor": 5
}
